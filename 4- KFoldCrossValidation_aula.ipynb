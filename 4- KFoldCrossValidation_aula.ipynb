{
 "cells": [
  {
   "cell_type": "code",
   "execution_count": 1,
   "id": "b286dfe5-462c-4524-9ade-51de602df9f6",
   "metadata": {},
   "outputs": [],
   "source": [
    "import numpy as np\n",
    "from sklearn.model_selection import cross_val_score, train_test_split\n",
    "from sklearn import datasets\n",
    "from sklearn import svm\n",
    "\n",
    "iris = datasets.load_iris()\n"
   ]
  },
  {
   "cell_type": "markdown",
   "id": "ab6b00d6-e1b9-4c18-bcb8-9106d9d1f312",
   "metadata": {},
   "source": [
    "Em resumo, este conjunto de código faz a divisão dos dados do conjunto Iris em treino e teste, treina um modelo SVM com os dados de treino e, em seguida, mede a acurácia do modelo usando os dados de teste"
   ]
  },
  {
   "cell_type": "code",
   "execution_count": 3,
   "id": "9760b52b-664a-4fa1-9ca0-3e164d2135bd",
   "metadata": {},
   "outputs": [
    {
     "data": {
      "text/plain": [
       "0.9666666666666667"
      ]
     },
     "execution_count": 3,
     "metadata": {},
     "output_type": "execute_result"
    }
   ],
   "source": [
    "X_train, X_test, y_train, y_test = train_test_split(iris.data, iris.target, test_size=0.4, random_state=0)\n",
    "\n",
    "clf = svm.SVC(kernel='linear', C=1).fit(X_train, y_train)\n",
    "\n",
    "clf.score(X_test, y_test)   "
   ]
  },
  {
   "cell_type": "markdown",
   "id": "c0d4e9d1-9855-4c4c-ba96-ad2499e6621b",
   "metadata": {},
   "source": [
    "Em resumo, está sendo utilizado a validação cruzada com 5 dobras para avaliar o desempenho do modelo SVM treinado anteriormente no conjunto de dados Iris. Ele imprime os scores obtidos em cada dobra e a média desses scores"
   ]
  },
  {
   "cell_type": "code",
   "execution_count": 5,
   "id": "54bd4afe-15f1-4079-ac93-3f322dad9226",
   "metadata": {},
   "outputs": [
    {
     "name": "stdout",
     "output_type": "stream",
     "text": [
      "[0.96666667 1.         0.96666667 0.96666667 1.        ]\n",
      "0.9800000000000001\n"
     ]
    }
   ],
   "source": [
    "scores = cross_val_score(clf, iris.data, iris.target, cv=5)\n",
    "\n",
    "print(scores)\n",
    "\n",
    "print(scores.mean())"
   ]
  },
  {
   "cell_type": "markdown",
   "id": "380fed40-3318-4c0d-9792-e5ce1e06b9e3",
   "metadata": {},
   "source": [
    "está sendo utilizado a validação cruzada com 5 dobras para avaliar o desempenho de um modelo SVM com kernel polinomial "
   ]
  },
  {
   "cell_type": "code",
   "execution_count": 10,
   "id": "7e15b407-bd35-4b05-bdf9-30d4b634c7a4",
   "metadata": {},
   "outputs": [
    {
     "name": "stdout",
     "output_type": "stream",
     "text": [
      "[0.96666667 1.         0.96666667 0.96666667 1.        ]\n",
      "0.9800000000000001\n"
     ]
    }
   ],
   "source": [
    "clf = svm.SVC(kernel='poly', C=1)\n",
    "scores = cross_val_score(clf, iris.data, iris.target, cv=5)\n",
    "print(scores)\n",
    "print(scores.mean())"
   ]
  },
  {
   "cell_type": "markdown",
   "id": "e38da566-6d73-43c8-9995-ce070c987aee",
   "metadata": {},
   "source": [
    "Está criando um modelo SVM com kernel polinomial, treinando-o com os dados de treino (X_train e y_train) e, em seguida, medindo a acurácia do modelo no conjunto de dados de teste (X_test e y_test)."
   ]
  },
  {
   "cell_type": "code",
   "execution_count": 14,
   "id": "d368c9d6-6c8e-4e70-a80d-ca28aa1a69ca",
   "metadata": {},
   "outputs": [
    {
     "data": {
      "text/plain": [
       "0.9"
      ]
     },
     "execution_count": 14,
     "metadata": {},
     "output_type": "execute_result"
    }
   ],
   "source": [
    "clf = svm.SVC(kernel='poly', C=1).fit(X_train, y_train)\n",
    "\n",
    "clf.score(X_test, y_test)   "
   ]
  }
 ],
 "metadata": {
  "kernelspec": {
   "display_name": "Python [conda env:base] *",
   "language": "python",
   "name": "conda-base-py"
  },
  "language_info": {
   "codemirror_mode": {
    "name": "ipython",
    "version": 3
   },
   "file_extension": ".py",
   "mimetype": "text/x-python",
   "name": "python",
   "nbconvert_exporter": "python",
   "pygments_lexer": "ipython3",
   "version": "3.12.7"
  }
 },
 "nbformat": 4,
 "nbformat_minor": 5
}
