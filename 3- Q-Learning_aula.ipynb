{
 "cells": [
  {
   "cell_type": "markdown",
   "id": "5a5d1d26-47a9-4df3-a091-c11063892c04",
   "metadata": {},
   "source": [
    "##### Aqui está sendo importando 2 bibliotecas: gym para poder simular ambientes de RF, e random para poder criar dados randomicos.\n",
    "##### Após o gym cria um ambiente chamado 'Taxi-v3', ambiente classico onde um taxi deve pegar e deixar passageiros em locais especificos, e outro parâmetro permite que a saída seja impressa no console.\n",
    "##### Retorna o ambiente ao seu estado original.\n",
    "##### E printa a renderização textual no console."
   ]
  },
  {
   "cell_type": "code",
   "execution_count": 3,
   "id": "40cbfce8-b6ab-4aea-b5de-70be90056d7f",
   "metadata": {},
   "outputs": [
    {
     "name": "stdout",
     "output_type": "stream",
     "text": [
      "\n",
      "+---------+\n",
      "|\u001b[34;1m\u001b[43mR\u001b[0m\u001b[0m: | : :\u001b[35mG\u001b[0m|\n",
      "| : | : : |\n",
      "| : : : : |\n",
      "| | : | : |\n",
      "|Y| : |B: |\n",
      "+---------+\n",
      "\n",
      "\n"
     ]
    }
   ],
   "source": [
    "import gym  \n",
    "import random  \n",
    "\n",
    "random.seed(1234) \n",
    "\n",
    "streets = gym.make(\"Taxi-v3\", render_mode = \"ansi\").env  \n",
    "streets.reset()  \n",
    "print(\"\\n\"+streets.render())  "
   ]
  },
  {
   "cell_type": "markdown",
   "id": "8a27a516-63de-4f41-bb06-a7b9a0922452",
   "metadata": {},
   "source": [
    "Estamos definindo aonde o taxi vai começar"
   ]
  },
  {
   "cell_type": "code",
   "execution_count": 5,
   "id": "b769cdec-f810-4c08-9fd2-838ca02606ee",
   "metadata": {},
   "outputs": [
    {
     "name": "stdout",
     "output_type": "stream",
     "text": [
      "\n",
      "+---------+\n",
      "|\u001b[34;1m\u001b[43mR\u001b[0m\u001b[0m: | : :\u001b[35mG\u001b[0m|\n",
      "| : | : : |\n",
      "| : : : : |\n",
      "| | : | : |\n",
      "|Y| : |B: |\n",
      "+---------+\n",
      "\n",
      "\n"
     ]
    }
   ],
   "source": [
    "initial_state = streets.encode(2, 3, 2, 0)\n",
    "streets.s = initial_state\n",
    "print(\"\\n\"+streets.render())  "
   ]
  },
  {
   "cell_type": "markdown",
   "id": "3294d61d-c282-42fe-9d1f-297d81b8def8",
   "metadata": {},
   "source": [
    "Mostrando as recompensas para cada movimento dele, sao 6 movimentos 'possíveis' as 4 direções, deixar ou pegar um passageiro, o numero maior diz a probablidade disso acontecer, o terceiro diz quantos pontos ele vai ser penalizado e o ultimo diz se houve uma pega ou deixa de passageiros sucedida."
   ]
  },
  {
   "cell_type": "code",
   "execution_count": 7,
   "id": "6749691d-2bc2-4361-bc0b-fa52f058a3bc",
   "metadata": {},
   "outputs": [
    {
     "data": {
      "text/plain": [
       "{0: [(1.0, 368, -1, False)],\n",
       " 1: [(1.0, 168, -1, False)],\n",
       " 2: [(1.0, 288, -1, False)],\n",
       " 3: [(1.0, 248, -1, False)],\n",
       " 4: [(1.0, 268, -10, False)],\n",
       " 5: [(1.0, 268, -10, False)]}"
      ]
     },
     "execution_count": 7,
     "metadata": {},
     "output_type": "execute_result"
    }
   ],
   "source": [
    "streets.P[initial_state]"
   ]
  },
  {
   "cell_type": "markdown",
   "id": "5f567933-a573-4bbb-9f9a-6082ddc78229",
   "metadata": {},
   "source": [
    "Foi necessário fazer algumas alterações no código, pois o original não estava funcionando como deveria por causa da diferença de versões do Gym, mas basicamente o que todo esse código faz é o aprendizado por reforço 10000x (reduzi para 800) pois está com problemas para rodar"
   ]
  },
  {
   "cell_type": "code",
   "execution_count": 9,
   "id": "81cea945-b158-427b-b041-4279623bea9e",
   "metadata": {},
   "outputs": [
    {
     "name": "stderr",
     "output_type": "stream",
     "text": [
      "C:\\Users\\lshun\\anaconda3\\Lib\\site-packages\\gym\\utils\\passive_env_checker.py:233: DeprecationWarning: `np.bool8` is a deprecated alias for `np.bool_`.  (Deprecated NumPy 1.24)\n",
      "  if not isinstance(terminated, (bool, np.bool8)):\n"
     ]
    },
    {
     "name": "stdout",
     "output_type": "stream",
     "text": [
      "Progresso: 0/800\n",
      "Progresso: 100/800\n",
      "Progresso: 200/800\n",
      "Progresso: 300/800\n",
      "Progresso: 400/800\n",
      "Progresso: 500/800\n",
      "Progresso: 600/800\n",
      "Progresso: 700/800\n",
      "Treinamento concluído\n"
     ]
    }
   ],
   "source": [
    "import numpy as np\n",
    "import random\n",
    "\n",
    "\n",
    "q_table = np.zeros([streets.observation_space.n, streets.action_space.n])\n",
    "\n",
    "learning_rate = 0.1\n",
    "discount_factor = 0.6\n",
    "exploration = 0.1\n",
    "epochs = 800\n",
    "\n",
    "for taxi_run in range(epochs):\n",
    "    state = streets.reset()\n",
    "    done = False\n",
    "    \n",
    "    while not done:\n",
    "        random_value = random.uniform(0, 1)\n",
    "        if random_value < exploration:\n",
    "            action = streets.action_space.sample()\n",
    "        else:\n",
    "            state_index = state[0] if isinstance(state, tuple) else state\n",
    "            \n",
    "            if isinstance(state_index, int) and 0 <= state_index < q_table.shape[0]:\n",
    "                action = np.argmax(q_table[state_index])\n",
    "            else:\n",
    "                raise ValueError(f\"Estado inválido: {state}\")\n",
    "\n",
    "        next_state, reward, done, truncated, info = streets.step(action)\n",
    "        \n",
    "        next_state_index = next_state[0] if isinstance(next_state, tuple) else next_state\n",
    "        \n",
    "        prev_q = q_table[state_index, action]\n",
    "        next_max_q = np.max(q_table[next_state_index])\n",
    "        new_q = (1 - learning_rate) * prev_q + learning_rate * (reward + discount_factor * next_max_q)\n",
    "        q_table[state_index, action] = new_q\n",
    "\n",
    "        state = next_state\n",
    "    \n",
    "    #adicionei uma contagem de progresso, para ter uma melhor noção.\n",
    "    if taxi_run % 100 == 0:\n",
    "        print(f\"Progresso: {taxi_run}/{epochs}\")\n",
    "\n",
    "print(\"Treinamento concluído\")"
   ]
  },
  {
   "cell_type": "markdown",
   "id": "02b0e0b6-de49-4aae-ba0f-df89de223364",
   "metadata": {},
   "source": [
    "Isso vai nos mostrar qual é o melhor movimento a se fazer, considerando o menor valor de Q"
   ]
  },
  {
   "cell_type": "code",
   "execution_count": 12,
   "id": "99027c5d-644e-471b-b002-7f849b9aeb0b",
   "metadata": {},
   "outputs": [
    {
     "data": {
      "text/plain": [
       "array([-2.42893407, -2.43139767, -2.42904661, -2.42966555, -7.93080911,\n",
       "       -6.28225091])"
      ]
     },
     "execution_count": 12,
     "metadata": {},
     "output_type": "execute_result"
    }
   ],
   "source": [
    "q_table[initial_state]"
   ]
  },
  {
   "cell_type": "markdown",
   "id": "d38f75f1-312d-4720-b01f-6f9c5019d34c",
   "metadata": {},
   "source": [
    "Aqui ele simula 10 viagens do táxi tentando fazer o menor caminho possível."
   ]
  },
  {
   "cell_type": "code",
   "execution_count": 31,
   "id": "41745908-b996-4f7a-be08-34e1a657982f",
   "metadata": {},
   "outputs": [
    {
     "ename": "IndexError",
     "evalue": "only integers, slices (`:`), ellipsis (`...`), numpy.newaxis (`None`) and integer or boolean arrays are valid indices",
     "output_type": "error",
     "traceback": [
      "\u001b[1;31m---------------------------------------------------------------------------\u001b[0m",
      "\u001b[1;31mIndexError\u001b[0m                                Traceback (most recent call last)",
      "Cell \u001b[1;32mIn[31], line 10\u001b[0m\n\u001b[0;32m      7\u001b[0m done \u001b[38;5;241m=\u001b[39m \u001b[38;5;28;01mFalse\u001b[39;00m\n\u001b[0;32m      9\u001b[0m \u001b[38;5;28;01mwhile\u001b[39;00m \u001b[38;5;129;01mnot\u001b[39;00m done:        \n\u001b[1;32m---> 10\u001b[0m     action \u001b[38;5;241m=\u001b[39m np\u001b[38;5;241m.\u001b[39margmax(q_table[state])\n\u001b[0;32m     11\u001b[0m     next_state, reward, done, info \u001b[38;5;241m=\u001b[39m streets\u001b[38;5;241m.\u001b[39mstep(action)\n\u001b[0;32m     12\u001b[0m     clear_output(wait\u001b[38;5;241m=\u001b[39m\u001b[38;5;28;01mTrue\u001b[39;00m)\n",
      "\u001b[1;31mIndexError\u001b[0m: only integers, slices (`:`), ellipsis (`...`), numpy.newaxis (`None`) and integer or boolean arrays are valid indices"
     ]
    }
   ],
   "source": [
    "from IPython.display import clear_output\n",
    "from time import sleep\n",
    "\n",
    "for tripnum in range(1, 11):\n",
    "    state = streets.reset()\n",
    "   \n",
    "    done = False\n",
    "    \n",
    "    while not done:        \n",
    "        action = np.argmax(q_table[state])\n",
    "        next_state, reward, done, info = streets.step(action)\n",
    "        clear_output(wait=True)\n",
    "        print(\"Trip number \" + str(tripnum))\n",
    "        print(streets.render(mode='ansi'))\n",
    "        sleep(.5)\n",
    "        state = next_state\n",
    "        \n",
    "    sleep(2)"
   ]
  }
 ],
 "metadata": {
  "kernelspec": {
   "display_name": "Python [conda env:base] *",
   "language": "python",
   "name": "conda-base-py"
  },
  "language_info": {
   "codemirror_mode": {
    "name": "ipython",
    "version": 3
   },
   "file_extension": ".py",
   "mimetype": "text/x-python",
   "name": "python",
   "nbconvert_exporter": "python",
   "pygments_lexer": "ipython3",
   "version": "3.12.7"
  }
 },
 "nbformat": 4,
 "nbformat_minor": 5
}
